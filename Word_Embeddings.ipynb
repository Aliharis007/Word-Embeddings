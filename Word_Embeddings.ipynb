{
  "nbformat": 4,
  "nbformat_minor": 0,
  "metadata": {
    "colab": {
      "provenance": [],
      "gpuType": "T4",
      "authorship_tag": "ABX9TyNobiYCtJ0LTupsnGS1xrfr",
      "include_colab_link": true
    },
    "kernelspec": {
      "name": "python3",
      "display_name": "Python 3"
    },
    "language_info": {
      "name": "python"
    },
    "accelerator": "GPU"
  },
  "cells": [
    {
      "cell_type": "markdown",
      "metadata": {
        "id": "view-in-github",
        "colab_type": "text"
      },
      "source": [
        "<a href=\"https://colab.research.google.com/github/Aliharis007/Word-Embeddings/blob/main/Word_Embeddings.ipynb\" target=\"_parent\"><img src=\"https://colab.research.google.com/assets/colab-badge.svg\" alt=\"Open In Colab\"/></a>"
      ]
    },
    {
      "cell_type": "code",
      "execution_count": null,
      "metadata": {
        "colab": {
          "base_uri": "https://localhost:8080/"
        },
        "id": "HOF9XMfoOeU5",
        "outputId": "a505b2f0-00d8-44fa-a474-504abeeaed61"
      },
      "outputs": [
        {
          "output_type": "execute_result",
          "data": {
            "text/plain": [
              "True"
            ]
          },
          "metadata": {},
          "execution_count": 1
        }
      ],
      "source": [
        "import torch\n",
        "torch.cuda.is_available()"
      ]
    },
    {
      "cell_type": "code",
      "source": [
        "from google.colab import files\n",
        "uploaded = files.upload()\n"
      ],
      "metadata": {
        "colab": {
          "base_uri": "https://localhost:8080/",
          "height": 73
        },
        "id": "cgqkeMxOSpfh",
        "outputId": "98d29f22-4067-46df-b855-58cb8f25b2b9"
      },
      "execution_count": null,
      "outputs": [
        {
          "output_type": "display_data",
          "data": {
            "text/plain": [
              "<IPython.core.display.HTML object>"
            ],
            "text/html": [
              "\n",
              "     <input type=\"file\" id=\"files-f1fc4a54-6774-4d52-85c1-1422f78cdb04\" name=\"files[]\" multiple disabled\n",
              "        style=\"border:none\" />\n",
              "     <output id=\"result-f1fc4a54-6774-4d52-85c1-1422f78cdb04\">\n",
              "      Upload widget is only available when the cell has been executed in the\n",
              "      current browser session. Please rerun this cell to enable.\n",
              "      </output>\n",
              "      <script>// Copyright 2017 Google LLC\n",
              "//\n",
              "// Licensed under the Apache License, Version 2.0 (the \"License\");\n",
              "// you may not use this file except in compliance with the License.\n",
              "// You may obtain a copy of the License at\n",
              "//\n",
              "//      http://www.apache.org/licenses/LICENSE-2.0\n",
              "//\n",
              "// Unless required by applicable law or agreed to in writing, software\n",
              "// distributed under the License is distributed on an \"AS IS\" BASIS,\n",
              "// WITHOUT WARRANTIES OR CONDITIONS OF ANY KIND, either express or implied.\n",
              "// See the License for the specific language governing permissions and\n",
              "// limitations under the License.\n",
              "\n",
              "/**\n",
              " * @fileoverview Helpers for google.colab Python module.\n",
              " */\n",
              "(function(scope) {\n",
              "function span(text, styleAttributes = {}) {\n",
              "  const element = document.createElement('span');\n",
              "  element.textContent = text;\n",
              "  for (const key of Object.keys(styleAttributes)) {\n",
              "    element.style[key] = styleAttributes[key];\n",
              "  }\n",
              "  return element;\n",
              "}\n",
              "\n",
              "// Max number of bytes which will be uploaded at a time.\n",
              "const MAX_PAYLOAD_SIZE = 100 * 1024;\n",
              "\n",
              "function _uploadFiles(inputId, outputId) {\n",
              "  const steps = uploadFilesStep(inputId, outputId);\n",
              "  const outputElement = document.getElementById(outputId);\n",
              "  // Cache steps on the outputElement to make it available for the next call\n",
              "  // to uploadFilesContinue from Python.\n",
              "  outputElement.steps = steps;\n",
              "\n",
              "  return _uploadFilesContinue(outputId);\n",
              "}\n",
              "\n",
              "// This is roughly an async generator (not supported in the browser yet),\n",
              "// where there are multiple asynchronous steps and the Python side is going\n",
              "// to poll for completion of each step.\n",
              "// This uses a Promise to block the python side on completion of each step,\n",
              "// then passes the result of the previous step as the input to the next step.\n",
              "function _uploadFilesContinue(outputId) {\n",
              "  const outputElement = document.getElementById(outputId);\n",
              "  const steps = outputElement.steps;\n",
              "\n",
              "  const next = steps.next(outputElement.lastPromiseValue);\n",
              "  return Promise.resolve(next.value.promise).then((value) => {\n",
              "    // Cache the last promise value to make it available to the next\n",
              "    // step of the generator.\n",
              "    outputElement.lastPromiseValue = value;\n",
              "    return next.value.response;\n",
              "  });\n",
              "}\n",
              "\n",
              "/**\n",
              " * Generator function which is called between each async step of the upload\n",
              " * process.\n",
              " * @param {string} inputId Element ID of the input file picker element.\n",
              " * @param {string} outputId Element ID of the output display.\n",
              " * @return {!Iterable<!Object>} Iterable of next steps.\n",
              " */\n",
              "function* uploadFilesStep(inputId, outputId) {\n",
              "  const inputElement = document.getElementById(inputId);\n",
              "  inputElement.disabled = false;\n",
              "\n",
              "  const outputElement = document.getElementById(outputId);\n",
              "  outputElement.innerHTML = '';\n",
              "\n",
              "  const pickedPromise = new Promise((resolve) => {\n",
              "    inputElement.addEventListener('change', (e) => {\n",
              "      resolve(e.target.files);\n",
              "    });\n",
              "  });\n",
              "\n",
              "  const cancel = document.createElement('button');\n",
              "  inputElement.parentElement.appendChild(cancel);\n",
              "  cancel.textContent = 'Cancel upload';\n",
              "  const cancelPromise = new Promise((resolve) => {\n",
              "    cancel.onclick = () => {\n",
              "      resolve(null);\n",
              "    };\n",
              "  });\n",
              "\n",
              "  // Wait for the user to pick the files.\n",
              "  const files = yield {\n",
              "    promise: Promise.race([pickedPromise, cancelPromise]),\n",
              "    response: {\n",
              "      action: 'starting',\n",
              "    }\n",
              "  };\n",
              "\n",
              "  cancel.remove();\n",
              "\n",
              "  // Disable the input element since further picks are not allowed.\n",
              "  inputElement.disabled = true;\n",
              "\n",
              "  if (!files) {\n",
              "    return {\n",
              "      response: {\n",
              "        action: 'complete',\n",
              "      }\n",
              "    };\n",
              "  }\n",
              "\n",
              "  for (const file of files) {\n",
              "    const li = document.createElement('li');\n",
              "    li.append(span(file.name, {fontWeight: 'bold'}));\n",
              "    li.append(span(\n",
              "        `(${file.type || 'n/a'}) - ${file.size} bytes, ` +\n",
              "        `last modified: ${\n",
              "            file.lastModifiedDate ? file.lastModifiedDate.toLocaleDateString() :\n",
              "                                    'n/a'} - `));\n",
              "    const percent = span('0% done');\n",
              "    li.appendChild(percent);\n",
              "\n",
              "    outputElement.appendChild(li);\n",
              "\n",
              "    const fileDataPromise = new Promise((resolve) => {\n",
              "      const reader = new FileReader();\n",
              "      reader.onload = (e) => {\n",
              "        resolve(e.target.result);\n",
              "      };\n",
              "      reader.readAsArrayBuffer(file);\n",
              "    });\n",
              "    // Wait for the data to be ready.\n",
              "    let fileData = yield {\n",
              "      promise: fileDataPromise,\n",
              "      response: {\n",
              "        action: 'continue',\n",
              "      }\n",
              "    };\n",
              "\n",
              "    // Use a chunked sending to avoid message size limits. See b/62115660.\n",
              "    let position = 0;\n",
              "    do {\n",
              "      const length = Math.min(fileData.byteLength - position, MAX_PAYLOAD_SIZE);\n",
              "      const chunk = new Uint8Array(fileData, position, length);\n",
              "      position += length;\n",
              "\n",
              "      const base64 = btoa(String.fromCharCode.apply(null, chunk));\n",
              "      yield {\n",
              "        response: {\n",
              "          action: 'append',\n",
              "          file: file.name,\n",
              "          data: base64,\n",
              "        },\n",
              "      };\n",
              "\n",
              "      let percentDone = fileData.byteLength === 0 ?\n",
              "          100 :\n",
              "          Math.round((position / fileData.byteLength) * 100);\n",
              "      percent.textContent = `${percentDone}% done`;\n",
              "\n",
              "    } while (position < fileData.byteLength);\n",
              "  }\n",
              "\n",
              "  // All done.\n",
              "  yield {\n",
              "    response: {\n",
              "      action: 'complete',\n",
              "    }\n",
              "  };\n",
              "}\n",
              "\n",
              "scope.google = scope.google || {};\n",
              "scope.google.colab = scope.google.colab || {};\n",
              "scope.google.colab._files = {\n",
              "  _uploadFiles,\n",
              "  _uploadFilesContinue,\n",
              "};\n",
              "})(self);\n",
              "</script> "
            ]
          },
          "metadata": {}
        },
        {
          "output_type": "stream",
          "name": "stdout",
          "text": [
            "Saving text_corpus.txt to text_corpus.txt\n"
          ]
        }
      ]
    },
    {
      "cell_type": "code",
      "source": [
        "with open('text_corpus.txt', 'r') as f:\n",
        "    text = f.read().lower()\n",
        "print(text)\n"
      ],
      "metadata": {
        "colab": {
          "base_uri": "https://localhost:8080/"
        },
        "id": "C6611KgZSsXI",
        "outputId": "ccb7bb24-71f8-4525-a0e1-163196596d38"
      },
      "execution_count": null,
      "outputs": [
        {
          "output_type": "stream",
          "name": "stdout",
          "text": [
            "deep learning is amazing. machine learning is powerful. ai is the future.\n",
            "computers can learn from data. data is crucial for ai.\n",
            "\n"
          ]
        }
      ]
    },
    {
      "cell_type": "code",
      "source": [
        "import nltk\n",
        "import string\n",
        "from nltk.corpus import stopwords\n",
        "from nltk.tokenize import word_tokenize\n",
        "\n",
        "nltk.download('punkt')\n",
        "nltk.download('punkt_tab')\n",
        "nltk.download('stopwords')\n",
        "\n",
        "stop_words = set(stopwords.words('english'))\n",
        "\n",
        "tokens = word_tokenize(text)\n",
        "tokens = [word for word in tokens if word not in stop_words and word not in string.punctuation]\n",
        "\n",
        "print(tokens)"
      ],
      "metadata": {
        "colab": {
          "base_uri": "https://localhost:8080/"
        },
        "id": "neWu-pWATJ9W",
        "outputId": "94bbd353-28f9-4809-bfdc-3f7b969c2ada"
      },
      "execution_count": null,
      "outputs": [
        {
          "output_type": "stream",
          "name": "stderr",
          "text": [
            "[nltk_data] Downloading package punkt to /root/nltk_data...\n",
            "[nltk_data]   Package punkt is already up-to-date!\n",
            "[nltk_data] Downloading package punkt_tab to /root/nltk_data...\n",
            "[nltk_data]   Unzipping tokenizers/punkt_tab.zip.\n",
            "[nltk_data] Downloading package stopwords to /root/nltk_data...\n",
            "[nltk_data]   Package stopwords is already up-to-date!\n"
          ]
        },
        {
          "output_type": "stream",
          "name": "stdout",
          "text": [
            "['deep', 'learning', 'amazing', 'machine', 'learning', 'powerful', 'ai', 'future', 'computers', 'learn', 'data', 'data', 'crucial', 'ai']\n"
          ]
        }
      ]
    },
    {
      "cell_type": "code",
      "source": [
        "vocab = sorted(set(tokens))\n",
        "word2idx = {word: idx for idx, word in enumerate(vocab)}\n",
        "idx2word = {idx: word for word, idx in word2idx.items()}\n",
        "\n",
        "print(\"Vocab size:\", len(vocab))\n"
      ],
      "metadata": {
        "colab": {
          "base_uri": "https://localhost:8080/"
        },
        "id": "rVfsDMslTbas",
        "outputId": "51374548-8bb6-41af-d2f8-b82531539794"
      },
      "execution_count": null,
      "outputs": [
        {
          "output_type": "stream",
          "name": "stdout",
          "text": [
            "Vocab size: 11\n"
          ]
        }
      ]
    },
    {
      "cell_type": "code",
      "source": [
        "def generate_skipgram_pairs(tokens, window_size=2):\n",
        "    pairs = []\n",
        "    for idx, target in enumerate(tokens):\n",
        "        for offset in range(-window_size, window_size + 1):\n",
        "            context_idx = idx + offset\n",
        "            if context_idx >= 0 and context_idx < len(tokens) and context_idx != idx:\n",
        "                pairs.append((target, tokens[context_idx]))\n",
        "    return pairs\n",
        "\n",
        "skipgram_pairs = generate_skipgram_pairs(tokens, window_size=2)\n",
        "print(skipgram_pairs[:10])\n"
      ],
      "metadata": {
        "colab": {
          "base_uri": "https://localhost:8080/"
        },
        "id": "0f0Ipt-3TjkV",
        "outputId": "27a86f14-4828-49bc-8bd5-59cabdb99e62"
      },
      "execution_count": null,
      "outputs": [
        {
          "output_type": "stream",
          "name": "stdout",
          "text": [
            "[('deep', 'learning'), ('deep', 'amazing'), ('learning', 'deep'), ('learning', 'amazing'), ('learning', 'machine'), ('amazing', 'deep'), ('amazing', 'learning'), ('amazing', 'machine'), ('amazing', 'learning'), ('machine', 'learning')]\n"
          ]
        }
      ]
    },
    {
      "cell_type": "code",
      "source": [
        "import torch\n",
        "import torch.nn as nn\n",
        "import torch.nn.functional as F\n",
        "\n",
        "class SkipGramModel(nn.Module):\n",
        "    def __init__(self, vocab_size, embedding_dim):\n",
        "        super(SkipGramModel, self).__init__()\n",
        "        self.embeddings = nn.Embedding(vocab_size, embedding_dim)\n",
        "        self.output_layer = nn.Linear(embedding_dim, vocab_size)\n",
        "\n",
        "    def forward(self, input_word):\n",
        "        embed = self.embeddings(input_word)\n",
        "        out = self.output_layer(embed)\n",
        "        return out\n"
      ],
      "metadata": {
        "id": "cyU6uKbLTy5b"
      },
      "execution_count": null,
      "outputs": []
    },
    {
      "cell_type": "code",
      "source": [
        "import random\n",
        "\n",
        "embedding_dim = 10\n",
        "learning_rate = 0.01\n",
        "epochs = 100\n",
        "device = torch.device(\"cuda\" if torch.cuda.is_available() else \"cpu\")\n",
        "\n",
        "model = SkipGramModel(len(vocab), embedding_dim).to(device)\n",
        "optimizer = torch.optim.SGD(model.parameters(), lr=learning_rate)\n",
        "loss_fn = nn.CrossEntropyLoss()\n",
        "\n",
        "pairs_idx = [(word2idx[target], word2idx[context]) for target, context in skipgram_pairs]\n",
        "\n",
        "for epoch in range(epochs):\n",
        "    total_loss = 0\n",
        "    random.shuffle(pairs_idx)\n",
        "    for target_idx, context_idx in pairs_idx:\n",
        "        input_tensor = torch.tensor([target_idx], dtype=torch.long).to(device)\n",
        "        target_tensor = torch.tensor([context_idx], dtype=torch.long).to(device)\n",
        "\n",
        "        optimizer.zero_grad()\n",
        "        output = model(input_tensor)\n",
        "        loss = loss_fn(output, target_tensor)\n",
        "        loss.backward()\n",
        "        optimizer.step()\n",
        "\n",
        "        total_loss += loss.item()\n",
        "\n",
        "    if (epoch + 1) % 10 == 0:\n",
        "        print(f\"Epoch {epoch+1}/{epochs}, Loss: {total_loss:.4f}\")\n"
      ],
      "metadata": {
        "colab": {
          "base_uri": "https://localhost:8080/"
        },
        "id": "OHGGkDWsT07d",
        "outputId": "ee7674c2-2fb6-42f3-d9c1-5a0b25dce56a"
      },
      "execution_count": null,
      "outputs": [
        {
          "output_type": "stream",
          "name": "stdout",
          "text": [
            "Epoch 10/100, Loss: 107.1393\n",
            "Epoch 20/100, Loss: 98.4845\n",
            "Epoch 30/100, Loss: 92.3397\n",
            "Epoch 40/100, Loss: 87.3514\n",
            "Epoch 50/100, Loss: 83.4436\n",
            "Epoch 60/100, Loss: 80.4566\n",
            "Epoch 70/100, Loss: 78.1629\n",
            "Epoch 80/100, Loss: 76.3460\n",
            "Epoch 90/100, Loss: 74.9522\n",
            "Epoch 100/100, Loss: 73.8833\n"
          ]
        }
      ]
    },
    {
      "cell_type": "code",
      "source": [
        "embeddings = model.embeddings.weight.data.cpu().numpy()\n"
      ],
      "metadata": {
        "id": "5im-dq89UDO3"
      },
      "execution_count": null,
      "outputs": []
    },
    {
      "cell_type": "code",
      "source": [
        "from sklearn.manifold import TSNE\n",
        "import matplotlib.pyplot as plt\n",
        "\n",
        "tsne = TSNE(n_components=2, random_state=0, perplexity=5)\n",
        "reduced_embeddings = tsne.fit_transform(embeddings)\n",
        "\n",
        "plt.figure(figsize=(10, 6))\n",
        "for i, word in enumerate(vocab):\n",
        "    x, y = reduced_embeddings[i]\n",
        "    plt.scatter(x, y)\n",
        "    plt.annotate(word, (x, y))\n",
        "plt.title(\"t-SNE Word Embeddings\")\n",
        "plt.show()"
      ],
      "metadata": {
        "colab": {
          "base_uri": "https://localhost:8080/",
          "height": 545
        },
        "id": "PYeLXZkrUEhg",
        "outputId": "fd86b3b8-7e6d-45ff-f433-ee65ef770d94"
      },
      "execution_count": null,
      "outputs": [
        {
          "output_type": "display_data",
          "data": {
            "text/plain": [
              "<Figure size 1000x600 with 1 Axes>"
            ],
            "image/png": "[encoded data removed]"
          },
          "metadata": {}
        }
      ]
    },
    {
      "cell_type": "markdown",
      "source": [
        "NOW WORKING FOR CBOW TASK 5"
      ],
      "metadata": {
        "id": "plUO77dXUtay"
      }
    },
    {
      "cell_type": "code",
      "source": [
        "def generate_cbow_pairs(tokens, window_size=2):\n",
        "    pairs = []\n",
        "    for idx in range(window_size, len(tokens) - window_size):\n",
        "        context = [tokens[i] for i in range(idx - window_size, idx + window_size + 1) if i != idx]\n",
        "        target = tokens[idx]\n",
        "        pairs.append((context, target))\n",
        "    return pairs\n",
        "\n",
        "cbow_pairs = generate_cbow_pairs(tokens, window_size=2)\n",
        "print(cbow_pairs[:5])\n"
      ],
      "metadata": {
        "colab": {
          "base_uri": "https://localhost:8080/"
        },
        "id": "ldtyeVCGU8Zl",
        "outputId": "23e33bbd-d716-446b-fcac-3fee8107763a"
      },
      "execution_count": null,
      "outputs": [
        {
          "output_type": "stream",
          "name": "stdout",
          "text": [
            "[(['deep', 'learning', 'machine', 'learning'], 'amazing'), (['learning', 'amazing', 'learning', 'powerful'], 'machine'), (['amazing', 'machine', 'powerful', 'ai'], 'learning'), (['machine', 'learning', 'ai', 'future'], 'powerful'), (['learning', 'powerful', 'future', 'computers'], 'ai')]\n"
          ]
        }
      ]
    },
    {
      "cell_type": "code",
      "source": [
        "cbow_pairs_idx = [([word2idx[w] for w in context], word2idx[target]) for context, target in cbow_pairs]\n"
      ],
      "metadata": {
        "id": "V7P-VQMeVBBi"
      },
      "execution_count": null,
      "outputs": []
    },
    {
      "cell_type": "code",
      "source": [
        "class CBOWModel(nn.Module):\n",
        "    def __init__(self, vocab_size, embedding_dim):\n",
        "        super(CBOWModel, self).__init__()\n",
        "        self.embeddings = nn.Embedding(vocab_size, embedding_dim)\n",
        "        self.linear = nn.Linear(embedding_dim, vocab_size)\n",
        "\n",
        "    def forward(self, context_idxs):\n",
        "        embeds = self.embeddings(context_idxs)\n",
        "        hidden = embeds.mean(dim=0).view(1, -1)\n",
        "        out = self.linear(hidden)\n",
        "        return out\n"
      ],
      "metadata": {
        "id": "nIbQ4WiUVD2z"
      },
      "execution_count": null,
      "outputs": []
    },
    {
      "cell_type": "code",
      "source": [
        "embedding_dim = 10\n",
        "cbow_model = CBOWModel(len(vocab), embedding_dim).to(device)\n",
        "optimizer = torch.optim.SGD(cbow_model.parameters(), lr=0.01)\n",
        "loss_fn = nn.CrossEntropyLoss()\n",
        "\n",
        "epochs = 100\n",
        "\n",
        "for epoch in range(epochs):\n",
        "    total_loss = 0\n",
        "    random.shuffle(cbow_pairs_idx)\n",
        "    for context_idxs, target_idx in cbow_pairs_idx:\n",
        "        context_tensor = torch.tensor(context_idxs, dtype=torch.long).to(device)\n",
        "        target_tensor = torch.tensor([target_idx], dtype=torch.long).to(device)\n",
        "\n",
        "        optimizer.zero_grad()\n",
        "        output = cbow_model(context_tensor)\n",
        "        loss = loss_fn(output, target_tensor)\n",
        "        loss.backward()\n",
        "        optimizer.step()\n",
        "\n",
        "        total_loss += loss.item()\n",
        "\n",
        "    if (epoch+1) % 10 == 0:\n",
        "        print(f\"Epoch {epoch+1}, Loss: {total_loss:.4f}\")\n"
      ],
      "metadata": {
        "colab": {
          "base_uri": "https://localhost:8080/"
        },
        "id": "VYJZIZoPVGM-",
        "outputId": "340855ee-659f-4784-a492-e817843c7538"
      },
      "execution_count": null,
      "outputs": [
        {
          "output_type": "stream",
          "name": "stdout",
          "text": [
            "Epoch 10, Loss: 21.3407\n",
            "Epoch 20, Loss: 19.6235\n",
            "Epoch 30, Loss: 18.1152\n",
            "Epoch 40, Loss: 16.7568\n",
            "Epoch 50, Loss: 15.5145\n",
            "Epoch 60, Loss: 14.3690\n",
            "Epoch 70, Loss: 13.3094\n",
            "Epoch 80, Loss: 12.3279\n",
            "Epoch 90, Loss: 11.4197\n",
            "Epoch 100, Loss: 10.5800\n"
          ]
        }
      ]
    },
    {
      "cell_type": "code",
      "source": [
        "cbow_embeddings = cbow_model.embeddings.weight.data.cpu().numpy()\n"
      ],
      "metadata": {
        "id": "PqywSO6WVK67"
      },
      "execution_count": null,
      "outputs": []
    },
    {
      "cell_type": "markdown",
      "source": [
        "**WORD ANALOGY:**"
      ],
      "metadata": {
        "id": "ND6gqFqYVOL5"
      }
    },
    {
      "cell_type": "code",
      "source": [
        "import numpy as np\n",
        "\n",
        "def find_analogy(word_a, word_b, word_c, embeddings, word2idx, idx2word):\n",
        "    vec_a = embeddings[word2idx[word_a]]\n",
        "    vec_b = embeddings[word2idx[word_b]]\n",
        "    vec_c = embeddings[word2idx[word_c]]\n",
        "\n",
        "    target_vec = vec_b - vec_a + vec_c\n",
        "\n",
        "    similarities = []\n",
        "    for i in range(len(embeddings)):\n",
        "        similarity = np.dot(target_vec, embeddings[i]) / (np.linalg.norm(target_vec) * np.linalg.norm(embeddings[i]))\n",
        "        similarities.append((idx2word[i], similarity))\n",
        "\n",
        "    similarities = sorted(similarities, key=lambda x: -x[1])\n",
        "    for word, score in similarities[:5]:\n",
        "        print(f\"{word}: {score:.4f}\")\n",
        "\n",
        "find_analogy(\"machine\", \"learning\", \"data\", cbow_embeddings, word2idx, idx2word)\n"
      ],
      "metadata": {
        "colab": {
          "base_uri": "https://localhost:8080/"
        },
        "id": "7CVGL-pSVNn5",
        "outputId": "44dd2bab-8704-4baa-c2ae-1c890a89b93c"
      },
      "execution_count": null,
      "outputs": [
        {
          "output_type": "stream",
          "name": "stdout",
          "text": [
            "data: 0.5273\n",
            "powerful: 0.4352\n",
            "learning: 0.3566\n",
            "learn: 0.2367\n",
            "computers: 0.1792\n"
          ]
        }
      ]
    },
    {
      "cell_type": "code",
      "source": [
        "from sklearn.manifold import TSNE\n",
        "import matplotlib.pyplot as plt\n"
      ],
      "metadata": {
        "id": "8LkYTmmSVrf2"
      },
      "execution_count": null,
      "outputs": []
    },
    {
      "cell_type": "code",
      "source": [
        "tsne = TSNE(n_components=2, random_state=42, perplexity=3)\n",
        "cbow_2d = tsne.fit_transform(cbow_embeddings)\n"
      ],
      "metadata": {
        "id": "uKpRuy4wVthh"
      },
      "execution_count": null,
      "outputs": []
    },
    {
      "cell_type": "code",
      "source": [
        "from sklearn.manifold import TSNE\n",
        "import matplotlib.pyplot as plt\n",
        "\n",
        "word2idx = {word: idx for idx, word in enumerate(vocab)}\n",
        "\n",
        "tsne = TSNE(n_components=2, random_state=42, perplexity=3)\n",
        "cbow_2d = tsne.fit_transform(cbow_embeddings)\n",
        "\n",
        "plt.figure(figsize=(12, 8))\n",
        "for i, label in enumerate(word2idx.keys()):\n",
        "    x, y = cbow_2d[i, 0], cbow_2d[i, 1]\n",
        "    plt.scatter(x, y)\n",
        "    plt.annotate(label, (x, y), fontsize=12)\n",
        "\n",
        "plt.title(\"CBOW Word Embeddings Visualization (t-SNE)\", fontsize=16)\n",
        "plt.grid(True)\n",
        "plt.show()"
      ],
      "metadata": {
        "colab": {
          "base_uri": "https://localhost:8080/",
          "height": 701
        },
        "id": "TL-8ugKFVvf-",
        "outputId": "175c1755-a860-46f2-d6cc-37bd31c4f026"
      },
      "execution_count": null,
      "outputs": [
        {
          "output_type": "display_data",
          "data": {
            "text/plain": [
              "<Figure size 1200x800 with 1 Axes>"
            ],
            "image/png": "[encoded data removed]"
          },
          "metadata": {}
        }
      ]
    }
  ]
}